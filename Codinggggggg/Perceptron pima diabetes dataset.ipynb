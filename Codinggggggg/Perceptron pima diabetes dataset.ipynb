{
 "cells": [
  {
   "cell_type": "markdown",
   "id": "c9779a80-3c46-41cf-a80a-35265579f845",
   "metadata": {},
   "source": [
    "## 14. Implemetation Perceptron Training on Pima Diabetes Dataset"
   ]
  },
  {
   "cell_type": "code",
   "execution_count": 1,
   "id": "76149f29-077b-4829-9794-bdd96794a618",
   "metadata": {},
   "outputs": [],
   "source": [
    "import numpy as np\n",
    "import matplotlib.pyplot as plt\n",
    "import pandas as pd"
   ]
  },
  {
   "cell_type": "code",
   "execution_count": 2,
   "id": "e69b5ce4-d707-40a5-9000-e7aac71ca055",
   "metadata": {},
   "outputs": [],
   "source": [
    "def predict(x1,x2,x3,x4,x5,x6,x7,x8,w1,w2,w3,w4,w5,w6,w7,w8):\n",
    "    s=x1*w1+x2*w2+x3*w3+x4*w4+x5*w5+x6*w6+x7*w7+x8*w8\n",
    "    if s>=0.5 :\n",
    "        return 1\n",
    "    else:\n",
    "        return 0"
   ]
  },
  {
   "cell_type": "code",
   "execution_count": 3,
   "id": "b5588a1d-90c8-413c-b3b2-75ac7cca53c8",
   "metadata": {},
   "outputs": [],
   "source": [
    "def error(x1,x2,x3,x4,x5,x6,x7,x8,w1,w2,w3,w4,w5,w6,w7,w8,y):\n",
    "    return y-predict(x1,x2,x3,x4,x5,x6,x7,x8,w1,w2,w3,w4,w5,w6,w7,w8)"
   ]
  },
  {
   "cell_type": "code",
   "execution_count": 4,
   "id": "bba5871a-9a01-4dec-b829-6ae64746d264",
   "metadata": {},
   "outputs": [],
   "source": [
    "def lossfun(x1,x2,x3,x4,x5,x6,x7,x8,w1,w2,w3,w4,w5,w6,w7,w8,y):\n",
    "    sum=0\n",
    "    for i in range(len(x1)):\n",
    "        sum=sum+ error(x1[i],x2[i],x3[i],x4[i],x5[i],x6[i],x7[i],x8[i],w1,w2,w3,w4,w5,w6,w7,w8,y[i])\n",
    "        return sum"
   ]
  },
  {
   "cell_type": "code",
   "execution_count": 5,
   "id": "a087ff30-3d18-41a5-bbcd-694a545d53b5",
   "metadata": {},
   "outputs": [],
   "source": [
    "def training(x1,x2,x3,x4,x5,x6,x7,x8,y,iw1,iw2,iw3,iw4,iw5,iw6,iw7,iw8,lr):\n",
    "    w1=iw1\n",
    "    w2=iw2\n",
    "    w3=iw3\n",
    "    w4=iw4\n",
    "    w5=iw5\n",
    "    w6=iw6\n",
    "    w7=iw7\n",
    "    w8=iw8\n",
    "    losslist=[]\n",
    "    for epoch in (range(100)):\n",
    "        loss=lossfun(x1,x2,x3,x4,x5,x6,x7,x8,w1,w2,w3,w4,w5,w6,w7,w8,y)\n",
    "        losslist.append(loss)\n",
    "        for i in range(len(x1)):\n",
    "            w1=w1+lr*error(x1[i],x2[i],x3[i],x4[i],x5[i],x6[i],x7[i],x8[i],w1,w2,w3,w4,w5,w6,w7,w8,y[i])*x1[i]\n",
    "            w2=w2+lr*error(x1[i],x2[i],x3[i],x4[i],x5[i],x6[i],x7[i],x8[i],w1,w2,w3,w4,w5,w6,w7,w8,y[i])*x2[i]\n",
    "            w3=w3+lr*error(x1[i],x2[i],x3[i],x4[i],x5[i],x6[i],x7[i],x8[i],w1,w2,w3,w4,w5,w6,w7,w8,y[i])*x3[i]\n",
    "            w4=w4+lr*error(x1[i],x2[i],x3[i],x4[i],x5[i],x6[i],x7[i],x8[i],w1,w2,w3,w4,w5,w6,w7,w8,y[i])*x4[i]\n",
    "            w5=w5+lr*error(x1[i],x2[i],x3[i],x4[i],x5[i],x6[i],x7[i],x8[i],w1,w2,w3,w4,w5,w6,w7,w8,y[i])*x5[i]\n",
    "            w6=w6+lr*error(x1[i],x2[i],x3[i],x4[i],x5[i],x6[i],x7[i],x8[i],w1,w2,w3,w4,w5,w6,w7,w8,y[i])*x6[i]\n",
    "            w7=w7+lr*error(x1[i],x2[i],x3[i],x4[i],x5[i],x6[i],x7[i],x8[i],w1,w2,w3,w4,w5,w6,w7,w8,y[i])*x7[i]\n",
    "            w8=w8+lr*error(x1[i],x2[i],x3[i],x4[i],x5[i],x6[i],x7[i],x8[i],w1,w2,w3,w4,w5,w6,w7,w8,y[i])*x8[i]\n",
    "    return w1,w2,w3,w4,w5,w6,w7,w8,losslist  "
   ]
  },
  {
   "cell_type": "code",
   "execution_count": 6,
   "id": "9fb33c97-e65e-4ce6-aae3-65b9e29e0271",
   "metadata": {},
   "outputs": [],
   "source": [
    "df = pd.read_csv('diabetes.csv')"
   ]
  },
  {
   "cell_type": "code",
   "execution_count": 7,
   "id": "3c6a18bc-3301-4484-b3ad-f22c7dc1ab73",
   "metadata": {},
   "outputs": [
    {
     "data": {
      "text/html": [
       "<div>\n",
       "<style scoped>\n",
       "    .dataframe tbody tr th:only-of-type {\n",
       "        vertical-align: middle;\n",
       "    }\n",
       "\n",
       "    .dataframe tbody tr th {\n",
       "        vertical-align: top;\n",
       "    }\n",
       "\n",
       "    .dataframe thead th {\n",
       "        text-align: right;\n",
       "    }\n",
       "</style>\n",
       "<table border=\"1\" class=\"dataframe\">\n",
       "  <thead>\n",
       "    <tr style=\"text-align: right;\">\n",
       "      <th></th>\n",
       "      <th>Pregnancies</th>\n",
       "      <th>Glucose</th>\n",
       "      <th>BloodPressure</th>\n",
       "      <th>SkinThickness</th>\n",
       "      <th>Insulin</th>\n",
       "      <th>BMI</th>\n",
       "      <th>DiabetesPedigreeFunction</th>\n",
       "      <th>Age</th>\n",
       "      <th>Outcome</th>\n",
       "    </tr>\n",
       "  </thead>\n",
       "  <tbody>\n",
       "    <tr>\n",
       "      <th>0</th>\n",
       "      <td>6</td>\n",
       "      <td>148</td>\n",
       "      <td>72</td>\n",
       "      <td>35</td>\n",
       "      <td>0</td>\n",
       "      <td>33.6</td>\n",
       "      <td>0.627</td>\n",
       "      <td>50</td>\n",
       "      <td>1</td>\n",
       "    </tr>\n",
       "    <tr>\n",
       "      <th>1</th>\n",
       "      <td>1</td>\n",
       "      <td>85</td>\n",
       "      <td>66</td>\n",
       "      <td>29</td>\n",
       "      <td>0</td>\n",
       "      <td>26.6</td>\n",
       "      <td>0.351</td>\n",
       "      <td>31</td>\n",
       "      <td>0</td>\n",
       "    </tr>\n",
       "    <tr>\n",
       "      <th>2</th>\n",
       "      <td>8</td>\n",
       "      <td>183</td>\n",
       "      <td>64</td>\n",
       "      <td>0</td>\n",
       "      <td>0</td>\n",
       "      <td>23.3</td>\n",
       "      <td>0.672</td>\n",
       "      <td>32</td>\n",
       "      <td>1</td>\n",
       "    </tr>\n",
       "    <tr>\n",
       "      <th>3</th>\n",
       "      <td>1</td>\n",
       "      <td>89</td>\n",
       "      <td>66</td>\n",
       "      <td>23</td>\n",
       "      <td>94</td>\n",
       "      <td>28.1</td>\n",
       "      <td>0.167</td>\n",
       "      <td>21</td>\n",
       "      <td>0</td>\n",
       "    </tr>\n",
       "    <tr>\n",
       "      <th>4</th>\n",
       "      <td>0</td>\n",
       "      <td>137</td>\n",
       "      <td>40</td>\n",
       "      <td>35</td>\n",
       "      <td>168</td>\n",
       "      <td>43.1</td>\n",
       "      <td>2.288</td>\n",
       "      <td>33</td>\n",
       "      <td>1</td>\n",
       "    </tr>\n",
       "    <tr>\n",
       "      <th>...</th>\n",
       "      <td>...</td>\n",
       "      <td>...</td>\n",
       "      <td>...</td>\n",
       "      <td>...</td>\n",
       "      <td>...</td>\n",
       "      <td>...</td>\n",
       "      <td>...</td>\n",
       "      <td>...</td>\n",
       "      <td>...</td>\n",
       "    </tr>\n",
       "    <tr>\n",
       "      <th>763</th>\n",
       "      <td>10</td>\n",
       "      <td>101</td>\n",
       "      <td>76</td>\n",
       "      <td>48</td>\n",
       "      <td>180</td>\n",
       "      <td>32.9</td>\n",
       "      <td>0.171</td>\n",
       "      <td>63</td>\n",
       "      <td>0</td>\n",
       "    </tr>\n",
       "    <tr>\n",
       "      <th>764</th>\n",
       "      <td>2</td>\n",
       "      <td>122</td>\n",
       "      <td>70</td>\n",
       "      <td>27</td>\n",
       "      <td>0</td>\n",
       "      <td>36.8</td>\n",
       "      <td>0.340</td>\n",
       "      <td>27</td>\n",
       "      <td>0</td>\n",
       "    </tr>\n",
       "    <tr>\n",
       "      <th>765</th>\n",
       "      <td>5</td>\n",
       "      <td>121</td>\n",
       "      <td>72</td>\n",
       "      <td>23</td>\n",
       "      <td>112</td>\n",
       "      <td>26.2</td>\n",
       "      <td>0.245</td>\n",
       "      <td>30</td>\n",
       "      <td>0</td>\n",
       "    </tr>\n",
       "    <tr>\n",
       "      <th>766</th>\n",
       "      <td>1</td>\n",
       "      <td>126</td>\n",
       "      <td>60</td>\n",
       "      <td>0</td>\n",
       "      <td>0</td>\n",
       "      <td>30.1</td>\n",
       "      <td>0.349</td>\n",
       "      <td>47</td>\n",
       "      <td>1</td>\n",
       "    </tr>\n",
       "    <tr>\n",
       "      <th>767</th>\n",
       "      <td>1</td>\n",
       "      <td>93</td>\n",
       "      <td>70</td>\n",
       "      <td>31</td>\n",
       "      <td>0</td>\n",
       "      <td>30.4</td>\n",
       "      <td>0.315</td>\n",
       "      <td>23</td>\n",
       "      <td>0</td>\n",
       "    </tr>\n",
       "  </tbody>\n",
       "</table>\n",
       "<p>768 rows × 9 columns</p>\n",
       "</div>"
      ],
      "text/plain": [
       "     Pregnancies  Glucose  BloodPressure  SkinThickness  Insulin   BMI  \\\n",
       "0              6      148             72             35        0  33.6   \n",
       "1              1       85             66             29        0  26.6   \n",
       "2              8      183             64              0        0  23.3   \n",
       "3              1       89             66             23       94  28.1   \n",
       "4              0      137             40             35      168  43.1   \n",
       "..           ...      ...            ...            ...      ...   ...   \n",
       "763           10      101             76             48      180  32.9   \n",
       "764            2      122             70             27        0  36.8   \n",
       "765            5      121             72             23      112  26.2   \n",
       "766            1      126             60              0        0  30.1   \n",
       "767            1       93             70             31        0  30.4   \n",
       "\n",
       "     DiabetesPedigreeFunction  Age  Outcome  \n",
       "0                       0.627   50        1  \n",
       "1                       0.351   31        0  \n",
       "2                       0.672   32        1  \n",
       "3                       0.167   21        0  \n",
       "4                       2.288   33        1  \n",
       "..                        ...  ...      ...  \n",
       "763                     0.171   63        0  \n",
       "764                     0.340   27        0  \n",
       "765                     0.245   30        0  \n",
       "766                     0.349   47        1  \n",
       "767                     0.315   23        0  \n",
       "\n",
       "[768 rows x 9 columns]"
      ]
     },
     "execution_count": 7,
     "metadata": {},
     "output_type": "execute_result"
    }
   ],
   "source": [
    "df"
   ]
  },
  {
   "cell_type": "code",
   "execution_count": 8,
   "id": "3bb004cf-09a5-4121-bfca-175bbdb86712",
   "metadata": {},
   "outputs": [],
   "source": [
    "x1 = df['Pregnancies'].values\n",
    "x2 = df['Glucose'].values\n",
    "x3 = df['BloodPressure'].values\n",
    "x4 = df['SkinThickness'].values\n",
    "x5 = df['Insulin'].values\n",
    "x6 = df['BMI'].values\n",
    "x7 = df['DiabetesPedigreeFunction'].values\n",
    "x8 = df['Age'].values\n",
    "y = df['Outcome'].values"
   ]
  },
  {
   "cell_type": "code",
   "execution_count": 9,
   "id": "496254bf-3e1d-41b5-b238-602bb9c852a6",
   "metadata": {},
   "outputs": [],
   "source": [
    "w1,w2,w3,w4,w5,w6,w7,w8,losses= training(x1,x2,x3,x4,x5,x6,x7,x8,y,0.5,0.4,0.6,0.5,0.3,0.4,0.6,0.5,0.00001)"
   ]
  },
  {
   "cell_type": "code",
   "execution_count": 10,
   "id": "41d19665-4037-4729-a30e-0af423919f2a",
   "metadata": {},
   "outputs": [
    {
     "name": "stdout",
     "output_type": "stream",
     "text": [
      "0.04465999999999235 0.003950000000000276 -0.000760000000001596 -0.0028100000000008223 -0.00037999999999976334 0.0048170000000011025 0.5873995300000281 -0.006939999999998026\n"
     ]
    }
   ],
   "source": [
    "print(w1,w2,w3,w4,w5,w6,w7,w8)"
   ]
  },
  {
   "cell_type": "code",
   "execution_count": 11,
   "id": "f071d21b-d6e1-4a4d-a385-f42c0a041472",
   "metadata": {},
   "outputs": [
    {
     "name": "stdout",
     "output_type": "stream",
     "text": [
      "[0, 0, 0, 0, 0, 0, 0, 0, 0, 0, 0, 0, 0, 0, 0, 0, 0, 0, 0, 0, 0, 0, 0, 0, 0, 0, 0, 0, 0, 0, 0, 0, 0, 0, 0, 0, 0, 1, 0, 1, 1, 0, 0, 0, 0, 0, 0, 0, 0, 0, 0, 0, 0, 0, 0, 0, 0, 1, 0, 1, 0, 0, 1, 0, 0, 0, 0, 0, 0, 0, 0, 0, 0, 0, 0, 0, 0, 0, 0, 0, 0, 0, 0, 0, 0, 0, 0, 0, 0, 0, 0, 0, 0, 0, 0, 0, 0, 0, 0, 0]\n"
     ]
    }
   ],
   "source": [
    "print(losses)"
   ]
  },
  {
   "cell_type": "code",
   "execution_count": 12,
   "id": "4faa3b00-4514-478c-b0c5-e06c83f1efa4",
   "metadata": {},
   "outputs": [],
   "source": [
    "epochs=[x for x in range(len(losses))]"
   ]
  },
  {
   "cell_type": "code",
   "execution_count": 13,
   "id": "d9961ef7-1325-4695-bf27-7953349eb039",
   "metadata": {},
   "outputs": [
    {
     "name": "stderr",
     "output_type": "stream",
     "text": [
      "No artists with labels found to put in legend.  Note that artists whose label start with an underscore are ignored when legend() is called with no argument.\n"
     ]
    },
    {
     "data": {
      "image/png": "[encoded data removed]",
      "text/plain": [
       "<Figure size 1000x500 with 1 Axes>"
      ]
     },
     "metadata": {},
     "output_type": "display_data"
    }
   ],
   "source": [
    "plt.figure(figsize=(10, 5))\n",
    "plt.plot(epochs,losses,color='b',marker='*')\n",
    "plt.xlabel('epoch')\n",
    "plt.ylabel('training loss')\n",
    "plt.legend()\n",
    "plt.grid()\n",
    "plt.show()"
   ]
  },
  {
   "cell_type": "code",
   "execution_count": null,
   "id": "c1fe6dab-502e-43cb-bb31-bc6a42ef5f09",
   "metadata": {},
   "outputs": [],
   "source": []
  }
 ],
 "metadata": {
  "kernelspec": {
   "display_name": "Python 3 (ipykernel)",
   "language": "python",
   "name": "python3"
  },
  "language_info": {
   "codemirror_mode": {
    "name": "ipython",
    "version": 3
   },
   "file_extension": ".py",
   "mimetype": "text/x-python",
   "name": "python",
   "nbconvert_exporter": "python",
   "pygments_lexer": "ipython3",
   "version": "3.12.1"
  }
 },
 "nbformat": 4,
 "nbformat_minor": 5
}

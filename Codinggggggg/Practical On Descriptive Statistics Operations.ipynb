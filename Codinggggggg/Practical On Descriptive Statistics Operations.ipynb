{
 "cells": [
  {
   "cell_type": "markdown",
   "id": "da01fe14-fee1-4236-b823-7bff5c895182",
   "metadata": {},
   "source": [
    "# Practical on Descriptive Statistics Operations"
   ]
  },
  {
   "cell_type": "code",
   "execution_count": 1,
   "id": "ba4619a9-3576-4d2a-9998-bffa713f4a9e",
   "metadata": {},
   "outputs": [],
   "source": [
    "import pandas as pd\n",
    "import numpy as np\n",
    "from scipy.stats import skew,kurtosis"
   ]
  },
  {
   "cell_type": "code",
   "execution_count": 2,
   "id": "75f7684e-63d5-474a-8fa0-d9bef388665d",
   "metadata": {},
   "outputs": [],
   "source": [
    "data =[15,22,28,35,41,44,56,63,70,72,75,80,85,92,100]"
   ]
  },
  {
   "cell_type": "code",
   "execution_count": 3,
   "id": "4a86285c-f7b6-44f0-b0c8-eb9d060ee412",
   "metadata": {},
   "outputs": [],
   "source": [
    "df=pd.DataFrame(data, columns=[\"values\"])"
   ]
  },
  {
   "cell_type": "markdown",
   "id": "470680d7-1623-413b-ba48-ec1e0874621e",
   "metadata": {},
   "source": [
    "## Measures of Central Tendency"
   ]
  },
  {
   "cell_type": "code",
   "execution_count": 4,
   "id": "716946f7-a020-4ec7-9584-9096dd9ee73d",
   "metadata": {},
   "outputs": [
    {
     "name": "stdout",
     "output_type": "stream",
     "text": [
      "mean: 58.53333333333333\n"
     ]
    }
   ],
   "source": [
    "#Mean\n",
    "mean_value =df[\"values\"].mean()\n",
    "print(f\"mean: {mean_value}\")"
   ]
  },
  {
   "cell_type": "code",
   "execution_count": 5,
   "id": "260cf2fc-f2e0-4eae-8ce3-f71d8094f1a1",
   "metadata": {},
   "outputs": [
    {
     "name": "stdout",
     "output_type": "stream",
     "text": [
      "median: 63.0\n"
     ]
    }
   ],
   "source": [
    "#Median \n",
    "median_value =df[\"values\"].median()\n",
    "print(f\"median: {median_value}\")"
   ]
  },
  {
   "cell_type": "code",
   "execution_count": 7,
   "id": "2ad3fe58-f824-41ba-bfb5-96eee57fbe90",
   "metadata": {},
   "outputs": [
    {
     "name": "stdout",
     "output_type": "stream",
     "text": [
      "mode: 15\n"
     ]
    }
   ],
   "source": [
    "#Mode\n",
    "mode_value=df[\"values\"].mode()[0]\n",
    "print(f\"mode: {mode_value}\")"
   ]
  },
  {
   "cell_type": "markdown",
   "id": "1916bc16-c32a-40c9-8a13-eed52c5a848a",
   "metadata": {},
   "source": [
    "## Measures of Variability "
   ]
  },
  {
   "cell_type": "code",
   "execution_count": 12,
   "id": "c9498934-e209-4fde-a5c1-9c5cc0c8e9f4",
   "metadata": {},
   "outputs": [
    {
     "name": "stdout",
     "output_type": "stream",
     "text": [
      "Standard Deviation:26.519175452239587\n",
      "Variance:703.2666666666667\n",
      "Range: 85\n",
      "Interquartile Range (IQR): 39.5\n"
     ]
    }
   ],
   "source": [
    "# Standard Derivation\n",
    "std_dev =df[\"values\"].std()\n",
    "print(f\"Standard Deviation:{std_dev}\")\n",
    "\n",
    "#Variance\n",
    "variance_value=df[\"values\"].var()\n",
    "print(f\"Variance:{variance_value}\")\n",
    "\n",
    "#Range (MAx-MIN)\n",
    "range_value=df[\"values\"].max() - df[\"values\"].min()\n",
    "print(f\"Range: {range_value}\")\n",
    "\n",
    "#Interquartile Range \n",
    "iqr_value=df[\"values\"].quantile(0.75)-df[\"values\"].quantile(0.25)\n",
    "print(f\"Interquartile Range (IQR): {iqr_value}\")"
   ]
  },
  {
   "cell_type": "markdown",
   "id": "ad08ec77-d613-42de-9698-6a50b1c840fe",
   "metadata": {},
   "source": [
    "## Shape of Distribution"
   ]
  },
  {
   "cell_type": "code",
   "execution_count": 13,
   "id": "dae41e0a-dd13-4c19-82a4-5bd44e5d788b",
   "metadata": {},
   "outputs": [
    {
     "name": "stdout",
     "output_type": "stream",
     "text": [
      "skewness: -0.14080409652604806\n"
     ]
    }
   ],
   "source": [
    "#Skewness\n",
    "skewness_value = skew(df[\"values\"])\n",
    "print(f\"skewness: {skewness_value}\")"
   ]
  },
  {
   "cell_type": "code",
   "execution_count": 14,
   "id": "31c8bf35-a32d-4884-9a16-61a9250a2b09",
   "metadata": {},
   "outputs": [
    {
     "name": "stdout",
     "output_type": "stream",
     "text": [
      "Kurtosis: -1.1855184150013813\n"
     ]
    }
   ],
   "source": [
    "#kurtosis\n",
    "kurtosis_value = kurtosis(df[\"values\"])\n",
    "print(f\"Kurtosis: {kurtosis_value}\")"
   ]
  },
  {
   "cell_type": "markdown",
   "id": "f5b51c1a-ec0d-421b-8d1b-7cc6f9fa23e8",
   "metadata": {},
   "source": [
    "## Quantiles"
   ]
  },
  {
   "cell_type": "code",
   "execution_count": 16,
   "id": "55d8a6ec-541e-44e6-9e3a-f20ac3ab8ec7",
   "metadata": {},
   "outputs": [
    {
     "name": "stdout",
     "output_type": "stream",
     "text": [
      "Quantiles (25%, 50%, 75%):\n",
      "0.25    38.0\n",
      "0.50    63.0\n",
      "0.75    77.5\n",
      "Name: values, dtype: float64\n"
     ]
    }
   ],
   "source": [
    "#Quantiles\n",
    "quantiles =df[\"values\"].quantile([0.25,0.5,0.75])\n",
    "print(f\"Quantiles (25%, 50%, 75%):\\n{quantiles}\")"
   ]
  },
  {
   "cell_type": "markdown",
   "id": "35fee475-69e7-48d8-98b9-eba8f8637299",
   "metadata": {},
   "source": [
    "## Count, Min, and Max"
   ]
  },
  {
   "cell_type": "code",
   "execution_count": 20,
   "id": "0ac95c39-9152-475a-9fbb-afce58949a78",
   "metadata": {},
   "outputs": [
    {
     "name": "stdout",
     "output_type": "stream",
     "text": [
      "Count:  15\n",
      "Min:  15\n",
      "Max:  100\n"
     ]
    }
   ],
   "source": [
    "#count (number of non-null entries)\n",
    "count_value =df[\"values\"].count()\n",
    "print(f\"Count:  {count_value}\")\n",
    "\n",
    "#Minimum Value\n",
    "min_value=df[\"values\"].min()\n",
    "print(f\"Min:  {min_value}\")\n",
    "\n",
    "#max value\n",
    "max_value=df[\"values\"].max()\n",
    "print(f\"Max:  {max_value}\")"
   ]
  },
  {
   "cell_type": "markdown",
   "id": "ab3b5088-c1ef-415a-ae7f-75b7e19a085b",
   "metadata": {},
   "source": [
    "## Summary Statistics"
   ]
  },
  {
   "cell_type": "code",
   "execution_count": 21,
   "id": "f21f1912-5ec4-4a1f-a859-ab43594081f5",
   "metadata": {},
   "outputs": [
    {
     "name": "stdout",
     "output_type": "stream",
     "text": [
      "Summary Statistics:\n",
      "count     15.000000\n",
      "mean      58.533333\n",
      "std       26.519175\n",
      "min       15.000000\n",
      "25%       38.000000\n",
      "50%       63.000000\n",
      "75%       77.500000\n",
      "max      100.000000\n",
      "Name: values, dtype: float64\n"
     ]
    }
   ],
   "source": [
    "summary_stats =df[\"values\"].describe()\n",
    "print(f\"Summary Statistics:\\n{summary_stats}\")"
   ]
  },
  {
   "cell_type": "markdown",
   "id": "6f521123-8010-477e-a843-0d7a67e5318e",
   "metadata": {},
   "source": [
    "## Box Plot for Visualizing IQR"
   ]
  },
  {
   "cell_type": "code",
   "execution_count": 24,
   "id": "da7a8400-0b74-4bdc-bd19-4f4fa1eeed7a",
   "metadata": {},
   "outputs": [
    {
     "data": {
      "image/png": "[encoded data removed]",
      "text/plain": [
       "<Figure size 640x480 with 1 Axes>"
      ]
     },
     "metadata": {},
     "output_type": "display_data"
    }
   ],
   "source": [
    "import matplotlib.pyplot as plt\n",
    "\n",
    "#Box plot to visualize the spread, IQR, and outliers\n",
    "plt.boxplot(df[\"values\"],vert=False)\n",
    "plt.title('Box Plot')\n",
    "plt.show()"
   ]
  },
  {
   "cell_type": "code",
   "execution_count": null,
   "id": "7247d495-7e6b-40fb-a521-6e2bda563f05",
   "metadata": {},
   "outputs": [],
   "source": []
  }
 ],
 "metadata": {
  "kernelspec": {
   "display_name": "Python 3 (ipykernel)",
   "language": "python",
   "name": "python3"
  },
  "language_info": {
   "codemirror_mode": {
    "name": "ipython",
    "version": 3
   },
   "file_extension": ".py",
   "mimetype": "text/x-python",
   "name": "python",
   "nbconvert_exporter": "python",
   "pygments_lexer": "ipython3",
   "version": "3.12.1"
  }
 },
 "nbformat": 4,
 "nbformat_minor": 5
}
